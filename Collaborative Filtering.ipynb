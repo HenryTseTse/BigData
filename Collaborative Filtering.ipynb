{
 "cells": [
  {
   "cell_type": "code",
   "execution_count": 1,
   "id": "ff887a8c",
   "metadata": {},
   "outputs": [],
   "source": [
    "import os\n",
    "import pyspark\n",
    "import pandas as pd\n",
    "import numpy as np\n",
    "import matplotlib.pyplot as plt"
   ]
  },
  {
   "cell_type": "code",
   "execution_count": 2,
   "id": "4c83637b",
   "metadata": {},
   "outputs": [
    {
     "name": "stderr",
     "output_type": "stream",
     "text": [
      "WARNING: An illegal reflective access operation has occurred\n",
      "WARNING: Illegal reflective access by org.apache.spark.unsafe.Platform (file:/opt/conda/envs/bigdata/lib/python3.8/site-packages/pyspark/jars/spark-unsafe_2.12-3.2.1.jar) to constructor java.nio.DirectByteBuffer(long,int)\n",
      "WARNING: Please consider reporting this to the maintainers of org.apache.spark.unsafe.Platform\n",
      "WARNING: Use --illegal-access=warn to enable warnings of further illegal reflective access operations\n",
      "WARNING: All illegal access operations will be denied in a future release\n",
      "Using Spark's default log4j profile: org/apache/spark/log4j-defaults.properties\n",
      "Setting default log level to \"WARN\".\n",
      "To adjust logging level use sc.setLogLevel(newLevel). For SparkR, use setLogLevel(newLevel).\n",
      "22/05/06 20:42:04 WARN NativeCodeLoader: Unable to load native-hadoop library for your platform... using builtin-java classes where applicable\n",
      "/opt/conda/envs/bigdata/lib/python3.8/site-packages/pyspark/sql/context.py:125: FutureWarning: Deprecated in 3.0.0. Use SparkSession.builder.getOrCreate() instead.\n",
      "  warnings.warn(\n"
     ]
    }
   ],
   "source": [
    "conf = pyspark.SparkConf()\n",
    "\n",
    "conf.set('spark.ui.proxyBase', '/user/' + os.environ['JUPYTERHUB_USER'] + '/proxy/4041')\n",
    "conf.set('spark.sql.repl.eagerEval.enabled', True)\n",
    "conf.set('spark.driver.memory','8g')\n",
    "sc = pyspark.SparkContext(conf=conf)\n",
    "\n",
    "spark = pyspark.SQLContext.getOrCreate(sc)\n",
    "from pyspark.sql.functions import *"
   ]
  },
  {
   "cell_type": "code",
   "execution_count": 3,
   "id": "f95d0d7d",
   "metadata": {},
   "outputs": [
    {
     "name": "stderr",
     "output_type": "stream",
     "text": [
      "                                                                                \r"
     ]
    }
   ],
   "source": [
    "df = spark\\\n",
    ".read\\\n",
    ".option(\"inferSchema\",\"true\")\\\n",
    ".option(\"header\", \"true\")\\\n",
    ".csv(\"ratings.csv\")"
   ]
  },
  {
   "cell_type": "code",
   "execution_count": 4,
   "id": "55c5a98e",
   "metadata": {},
   "outputs": [
    {
     "name": "stdout",
     "output_type": "stream",
     "text": [
      "root\n",
      " |-- userId: integer (nullable = true)\n",
      " |-- movieId: integer (nullable = true)\n",
      " |-- rating: double (nullable = true)\n",
      " |-- timestamp: integer (nullable = true)\n",
      "\n"
     ]
    }
   ],
   "source": [
    "df.printSchema()"
   ]
  },
  {
   "cell_type": "code",
   "execution_count": 5,
   "id": "6df59a2b",
   "metadata": {},
   "outputs": [
    {
     "name": "stdout",
     "output_type": "stream",
     "text": [
      "+------+-------+------+----------+\n",
      "|userId|movieId|rating| timestamp|\n",
      "+------+-------+------+----------+\n",
      "|     1|    307|   3.5|1256677221|\n",
      "|     1|    481|   3.5|1256677456|\n",
      "|     1|   1091|   1.5|1256677471|\n",
      "|     1|   1257|   4.5|1256677460|\n",
      "|     1|   1449|   4.5|1256677264|\n",
      "+------+-------+------+----------+\n",
      "only showing top 5 rows\n",
      "\n"
     ]
    }
   ],
   "source": [
    "df.show(5)"
   ]
  },
  {
   "cell_type": "code",
   "execution_count": 6,
   "id": "8f89e0ee",
   "metadata": {},
   "outputs": [],
   "source": [
    "#Split the data into train and test set\n",
    "train, test = df.randomSplit([0.8,0.2])"
   ]
  },
  {
   "cell_type": "markdown",
   "id": "a614e431",
   "metadata": {},
   "source": [
    "### Examining our Data"
   ]
  },
  {
   "cell_type": "code",
   "execution_count": 8,
   "id": "9f9d65b9",
   "metadata": {},
   "outputs": [
    {
     "name": "stderr",
     "output_type": "stream",
     "text": [
      "                                                                                \r"
     ]
    }
   ],
   "source": [
    "#GroupBy movie ratings to check for the number of users\n",
    "user_count = train.groupBy('userId').count().toPandas()"
   ]
  },
  {
   "cell_type": "code",
   "execution_count": 7,
   "id": "de862928",
   "metadata": {},
   "outputs": [
    {
     "name": "stdout",
     "output_type": "stream",
     "text": [
      "Max User Count: 18925\n",
      "Min User Count: 1\n"
     ]
    },
    {
     "data": {
      "text/plain": [
       "<matplotlib.axes._subplots.AxesSubplot at 0x7fe6e9c1f5e0>"
      ]
     },
     "execution_count": 7,
     "metadata": {},
     "output_type": "execute_result"
    },
    {
     "data": {
      "image/png": "[encoded data removed]",
      "text/plain": [
       "<Figure size 432x288 with 1 Axes>"
      ]
     },
     "metadata": {
      "needs_background": "light"
     },
     "output_type": "display_data"
    }
   ],
   "source": [
    "print('Max User Count: {}'.format(user_count['count'].max()))\n",
    "print('Min User Count: {}'.format(user_count['count'].min()))\n",
    "user_count['count'].hist(bins = 100)"
   ]
  },
  {
   "cell_type": "code",
   "execution_count": 8,
   "id": "f2aadbea",
   "metadata": {},
   "outputs": [
    {
     "name": "stderr",
     "output_type": "stream",
     "text": [
      "                                                                                \r"
     ]
    },
    {
     "name": "stdout",
     "output_type": "stream",
     "text": [
      "Max Movie Count: 78058\n",
      "Min Movie Count: 1\n"
     ]
    },
    {
     "data": {
      "text/plain": [
       "<matplotlib.axes._subplots.AxesSubplot at 0x7fe6eaab9130>"
      ]
     },
     "execution_count": 8,
     "metadata": {},
     "output_type": "execute_result"
    },
    {
     "data": {
      "image/png": "[encoded data removed]",
      "text/plain": [
       "<Figure size 432x288 with 1 Axes>"
      ]
     },
     "metadata": {
      "needs_background": "light"
     },
     "output_type": "display_data"
    }
   ],
   "source": [
    "#GroupBy user ratings each movie has\n",
    "movie_count = train.groupBy('movieId').count().toPandas()\n",
    "print('Max Movie Count: {}'.format(movie_count['count'].max()))\n",
    "print('Min Movie Count: {}'.format(movie_count['count'].min()))\n",
    "movie_count['count'].hist(bins = 100)"
   ]
  },
  {
   "cell_type": "markdown",
   "id": "62cffa3b",
   "metadata": {},
   "source": [
    "### Training our Model"
   ]
  },
  {
   "cell_type": "code",
   "execution_count": 7,
   "id": "c282ba57",
   "metadata": {},
   "outputs": [
    {
     "name": "stderr",
     "output_type": "stream",
     "text": [
      "                                                                                \r"
     ]
    }
   ],
   "source": [
    "#Training the ALS model\n",
    "from pyspark.ml.recommendation import ALS\n",
    "\n",
    "als_model = ALS(userCol='userId',\n",
    "                itemCol='movieId',\n",
    "                nonnegative=True,\n",
    "                regParam=0.1,\n",
    "                rank=10)\n",
    "# rank is the number of latent factors we are choosing\n",
    "\n",
    "recommender = als_model.fit(train)"
   ]
  },
  {
   "cell_type": "code",
   "execution_count": 8,
   "id": "05fe6b96",
   "metadata": {},
   "outputs": [],
   "source": [
    "predictions = recommender.transform(test)"
   ]
  },
  {
   "cell_type": "code",
   "execution_count": 7,
   "id": "0b784bf9",
   "metadata": {
    "scrolled": true
   },
   "outputs": [
    {
     "name": "stderr",
     "output_type": "stream",
     "text": [
      "[Stage 131:============================>                            (1 + 1) / 2]\r"
     ]
    },
    {
     "name": "stdout",
     "output_type": "stream",
     "text": [
      "+-------+------------------+------------------+------------------+--------------------+----------+\n",
      "|summary|            userId|           movieId|            rating|           timestamp|prediction|\n",
      "+-------+------------------+------------------+------------------+--------------------+----------+\n",
      "|  count|           5534620|           5534620|           5534620|             5534620|   5534620|\n",
      "|   mean|141693.27861063633|18490.593925147525| 3.530806902732256|1.1930416301581771E9|       NaN|\n",
      "| stddev| 81532.85424541403|35121.241928582065|1.0659419912127408| 2.160565057405978E8|       NaN|\n",
      "|    min|                 1|                 1|               0.5|           789652004|       0.0|\n",
      "|    max|            282472|            193886|               5.0|          1537945149|       NaN|\n",
      "+-------+------------------+------------------+------------------+--------------------+----------+\n",
      "\n"
     ]
    },
    {
     "name": "stderr",
     "output_type": "stream",
     "text": [
      "                                                                                \r"
     ]
    }
   ],
   "source": [
    "predictions.describe().show()"
   ]
  },
  {
   "cell_type": "code",
   "execution_count": 9,
   "id": "39a587c9",
   "metadata": {},
   "outputs": [
    {
     "name": "stdout",
     "output_type": "stream",
     "text": [
      "root\n",
      " |-- userId: integer (nullable = true)\n",
      " |-- movieId: integer (nullable = true)\n",
      " |-- rating: double (nullable = true)\n",
      " |-- timestamp: integer (nullable = true)\n",
      " |-- prediction: float (nullable = false)\n",
      "\n"
     ]
    }
   ],
   "source": [
    "predictions.printSchema()"
   ]
  },
  {
   "cell_type": "code",
   "execution_count": 13,
   "id": "6df138ee",
   "metadata": {},
   "outputs": [
    {
     "name": "stderr",
     "output_type": "stream",
     "text": [
      "                                                                                \r"
     ]
    },
    {
     "data": {
      "text/html": [
       "<table border='1'>\n",
       "<tr><th>userId</th><th>movieId</th><th>rating</th><th>timestamp</th><th>prediction</th></tr>\n",
       "<tr><td>1</td><td>3424</td><td>4.5</td><td>1256677444</td><td>3.956502</td></tr>\n",
       "<tr><td>1</td><td>3698</td><td>3.5</td><td>1256677243</td><td>3.0745933</td></tr>\n",
       "<tr><td>3</td><td>828</td><td>4.0</td><td>945141610</td><td>2.7038386</td></tr>\n",
       "<tr><td>3</td><td>1825</td><td>3.0</td><td>945141611</td><td>2.481729</td></tr>\n",
       "<tr><td>3</td><td>2024</td><td>3.0</td><td>945141611</td><td>2.9851801</td></tr>\n",
       "<tr><td>3</td><td>3171</td><td>4.0</td><td>945141407</td><td>3.2918122</td></tr>\n",
       "<tr><td>5</td><td>296</td><td>5.0</td><td>1209040010</td><td>4.595757</td></tr>\n",
       "<tr><td>5</td><td>318</td><td>5.0</td><td>1209040104</td><td>4.614525</td></tr>\n",
       "<tr><td>5</td><td>527</td><td>4.5</td><td>1209126022</td><td>4.3504653</td></tr>\n",
       "<tr><td>5</td><td>858</td><td>4.5</td><td>1209125953</td><td>4.523577</td></tr>\n",
       "<tr><td>5</td><td>1147</td><td>4.5</td><td>1209039420</td><td>4.1638603</td></tr>\n",
       "<tr><td>5</td><td>1732</td><td>5.0</td><td>1209040136</td><td>4.2745</td></tr>\n",
       "<tr><td>5</td><td>2060</td><td>3.5</td><td>1209039531</td><td>3.1219795</td></tr>\n",
       "<tr><td>5</td><td>4011</td><td>4.5</td><td>1209040116</td><td>4.36463</td></tr>\n",
       "<tr><td>5</td><td>4973</td><td>5.0</td><td>1209040127</td><td>4.389981</td></tr>\n",
       "<tr><td>5</td><td>8873</td><td>4.0</td><td>1209039902</td><td>4.128896</td></tr>\n",
       "<tr><td>5</td><td>30749</td><td>4.0</td><td>1209040167</td><td>4.2148886</td></tr>\n",
       "<tr><td>5</td><td>44204</td><td>4.0</td><td>1209040120</td><td>4.016444</td></tr>\n",
       "<tr><td>5</td><td>48696</td><td>4.0</td><td>1209039985</td><td>4.0602384</td></tr>\n",
       "<tr><td>5</td><td>48774</td><td>4.5</td><td>1209039877</td><td>4.129526</td></tr>\n",
       "</table>\n",
       "only showing top 20 rows\n"
      ],
      "text/plain": [
       "+------+-------+------+----------+----------+\n",
       "|userId|movieId|rating| timestamp|prediction|\n",
       "+------+-------+------+----------+----------+\n",
       "|     1|   3424|   4.5|1256677444|  3.956502|\n",
       "|     1|   3698|   3.5|1256677243| 3.0745933|\n",
       "|     3|    828|   4.0| 945141610| 2.7038386|\n",
       "|     3|   1825|   3.0| 945141611|  2.481729|\n",
       "|     3|   2024|   3.0| 945141611| 2.9851801|\n",
       "|     3|   3171|   4.0| 945141407| 3.2918122|\n",
       "|     5|    296|   5.0|1209040010|  4.595757|\n",
       "|     5|    318|   5.0|1209040104|  4.614525|\n",
       "|     5|    527|   4.5|1209126022| 4.3504653|\n",
       "|     5|    858|   4.5|1209125953|  4.523577|\n",
       "|     5|   1147|   4.5|1209039420| 4.1638603|\n",
       "|     5|   1732|   5.0|1209040136|    4.2745|\n",
       "|     5|   2060|   3.5|1209039531| 3.1219795|\n",
       "|     5|   4011|   4.5|1209040116|   4.36463|\n",
       "|     5|   4973|   5.0|1209040127|  4.389981|\n",
       "|     5|   8873|   4.0|1209039902|  4.128896|\n",
       "|     5|  30749|   4.0|1209040167| 4.2148886|\n",
       "|     5|  44204|   4.0|1209040120|  4.016444|\n",
       "|     5|  48696|   4.0|1209039985| 4.0602384|\n",
       "|     5|  48774|   4.5|1209039877|  4.129526|\n",
       "+------+-------+------+----------+----------+\n",
       "only showing top 20 rows"
      ]
     },
     "execution_count": 13,
     "metadata": {},
     "output_type": "execute_result"
    }
   ],
   "source": [
    "#drop Null values\n",
    "predictions = predictions.na.drop()"
   ]
  },
  {
   "cell_type": "markdown",
   "id": "35507406",
   "metadata": {},
   "source": [
    "### Calculating Error"
   ]
  },
  {
   "cell_type": "code",
   "execution_count": 14,
   "id": "e640c017",
   "metadata": {},
   "outputs": [],
   "source": [
    "predictions = predictions.withColumn(\"squared_error\", (predictions.rating - predictions.prediction)**2)"
   ]
  },
  {
   "cell_type": "code",
   "execution_count": 15,
   "id": "80c4b23a",
   "metadata": {},
   "outputs": [
    {
     "name": "stderr",
     "output_type": "stream",
     "text": [
      "[Stage 284:>                                                        (0 + 1) / 1]\r"
     ]
    },
    {
     "name": "stdout",
     "output_type": "stream",
     "text": [
      "+------+-------+------+----------+----------+--------------------+\n",
      "|userId|movieId|rating| timestamp|prediction|       squared_error|\n",
      "+------+-------+------+----------+----------+--------------------+\n",
      "|     1|   3424|   4.5|1256677444|  3.956502|  0.2953901186638177|\n",
      "|     1|   3698|   3.5|1256677243| 3.0745933| 0.18097085565074167|\n",
      "|     3|    828|   4.0| 945141610| 2.7038386|  1.6800344090498243|\n",
      "|     3|   1825|   3.0| 945141611|  2.481729|  0.2686047977133512|\n",
      "|     3|   2024|   3.0| 945141611| 2.9851801|2.196282640056779...|\n",
      "+------+-------+------+----------+----------+--------------------+\n",
      "only showing top 5 rows\n",
      "\n"
     ]
    },
    {
     "name": "stderr",
     "output_type": "stream",
     "text": [
      "                                                                                \r"
     ]
    }
   ],
   "source": [
    "predictions.show(5)"
   ]
  },
  {
   "cell_type": "code",
   "execution_count": 16,
   "id": "ef6d8684",
   "metadata": {},
   "outputs": [],
   "source": [
    "import pyspark.sql.functions as F\n",
    "rmse = predictions.select(F.sqrt(F.avg(F.col('squared_error'))).alias('rmse'))"
   ]
  },
  {
   "cell_type": "code",
   "execution_count": 17,
   "id": "a299ad02",
   "metadata": {},
   "outputs": [
    {
     "name": "stderr",
     "output_type": "stream",
     "text": [
      "                                                                                \r"
     ]
    },
    {
     "data": {
      "text/html": [
       "<table border='1'>\n",
       "<tr><th>rmse</th></tr>\n",
       "<tr><td>0.8245183929918704</td></tr>\n",
       "</table>\n"
      ],
      "text/plain": [
       "+------------------+\n",
       "|              rmse|\n",
       "+------------------+\n",
       "|0.8245183929918704|\n",
       "+------------------+"
      ]
     },
     "execution_count": 17,
     "metadata": {},
     "output_type": "execute_result"
    }
   ],
   "source": [
    "rmse"
   ]
  },
  {
   "cell_type": "code",
   "execution_count": 18,
   "id": "00d62c90",
   "metadata": {},
   "outputs": [
    {
     "name": "stderr",
     "output_type": "stream",
     "text": [
      "                                                                                \r"
     ]
    }
   ],
   "source": [
    "predictions_df = predictions.toPandas()"
   ]
  },
  {
   "cell_type": "markdown",
   "id": "551a8cb2",
   "metadata": {},
   "source": [
    "### Violin Plot"
   ]
  },
  {
   "cell_type": "code",
   "execution_count": 19,
   "id": "ebe5bb2f",
   "metadata": {},
   "outputs": [
    {
     "name": "stderr",
     "output_type": "stream",
     "text": [
      "/opt/conda/envs/bigdata/lib/python3.8/site-packages/matplotlib/cbook/__init__.py:1376: VisibleDeprecationWarning: Creating an ndarray from ragged nested sequences (which is a list-or-tuple of lists-or-tuples-or ndarrays with different lengths or shapes) is deprecated. If you meant to do this, you must specify 'dtype=object' when creating the ndarray.\n",
      "  X = np.atleast_1d(X.T if isinstance(X, np.ndarray) else np.asarray(X))\n",
      "/opt/conda/envs/bigdata/lib/python3.8/site-packages/numpy/core/fromnumeric.py:2007: VisibleDeprecationWarning: Creating an ndarray from ragged nested sequences (which is a list-or-tuple of lists-or-tuples-or ndarrays with different lengths or shapes) is deprecated. If you meant to do this, you must specify 'dtype=object' when creating the ndarray.\n",
      "  result = asarray(a).shape\n"
     ]
    },
    {
     "data": {
      "image/png": "[encoded data removed]",
      "text/plain": [
       "<Figure size 432x288 with 1 Axes>"
      ]
     },
     "metadata": {
      "needs_background": "light"
     },
     "output_type": "display_data"
    }
   ],
   "source": [
    "#Create array of predictions for violinplot\n",
    "data = [predictions_df['prediction'][predictions_df['rating'] == rating].values for rating in range(1,6)]\n",
    "plt.violinplot(data,range(1,6),showmeans=True)\n",
    "plt.xlabel('True Ratings')\n",
    "plt.ylabel('Predicted Ratings')\n",
    "plt.title('True vs ALS Recommender Predicted Ratings')\n",
    "plt.show()"
   ]
  },
  {
   "cell_type": "markdown",
   "id": "3863e078",
   "metadata": {},
   "source": [
    "### Movie and User Recommendation"
   ]
  },
  {
   "cell_type": "code",
   "execution_count": 20,
   "id": "d0433c92",
   "metadata": {},
   "outputs": [
    {
     "name": "stderr",
     "output_type": "stream",
     "text": [
      "/opt/conda/envs/bigdata/lib/python3.8/site-packages/pyspark/sql/context.py:125: FutureWarning: Deprecated in 3.0.0. Use SparkSession.builder.getOrCreate() instead.\n",
      "  warnings.warn(\n",
      "                                                                                \r"
     ]
    }
   ],
   "source": [
    "#Generate top 10 movie recommendations for each user\n",
    "userRecs = recommender.recommendForAllUsers(10)\n",
    "#Generate top 10 user recommendations for each movie\n",
    "movieRecs = recommender.recommendForAllItems(10)\n",
    "userRecs_df = userRecs.toPandas()\n",
    "movieRecs_df = movieRecs.toPandas()"
   ]
  },
  {
   "cell_type": "code",
   "execution_count": 21,
   "id": "e4b8ff1c",
   "metadata": {},
   "outputs": [],
   "source": [
    "def get_movie_recommendations(user_id):\n",
    "    return userRecs_df.loc[user_id].recommendations"
   ]
  },
  {
   "cell_type": "code",
   "execution_count": 22,
   "id": "8a87478b",
   "metadata": {},
   "outputs": [
    {
     "data": {
      "text/plain": [
       "[Row(movieId=151989, rating=4.723522186279297),\n",
       " Row(movieId=191203, rating=4.654873847961426),\n",
       " Row(movieId=177209, rating=4.397883892059326),\n",
       " Row(movieId=183947, rating=4.074903964996338),\n",
       " Row(movieId=190707, rating=4.041896820068359),\n",
       " Row(movieId=184299, rating=3.989130973815918),\n",
       " Row(movieId=159761, rating=3.896301746368408),\n",
       " Row(movieId=176597, rating=3.8759632110595703),\n",
       " Row(movieId=66389, rating=3.8478126525878906),\n",
       " Row(movieId=166812, rating=3.825347900390625)]"
      ]
     },
     "execution_count": 22,
     "metadata": {},
     "output_type": "execute_result"
    }
   ],
   "source": [
    "get_movie_recommendations(1)"
   ]
  },
  {
   "cell_type": "code",
   "execution_count": 25,
   "id": "0495fca8",
   "metadata": {},
   "outputs": [
    {
     "data": {
      "text/plain": [
       "[Row(movieId=191203, rating=7.803248882293701),\n",
       " Row(movieId=177209, rating=7.1907782554626465),\n",
       " Row(movieId=151989, rating=7.178464889526367),\n",
       " Row(movieId=159761, rating=6.259659767150879),\n",
       " Row(movieId=176597, rating=6.22702693939209),\n",
       " Row(movieId=117352, rating=6.147378921508789),\n",
       " Row(movieId=183947, rating=6.038647651672363),\n",
       " Row(movieId=190707, rating=6.0363054275512695),\n",
       " Row(movieId=192261, rating=5.994150638580322),\n",
       " Row(movieId=173153, rating=5.9930195808410645)]"
      ]
     },
     "execution_count": 25,
     "metadata": {},
     "output_type": "execute_result"
    }
   ],
   "source": [
    "get_movie_recommendations(420)"
   ]
  },
  {
   "cell_type": "code",
   "execution_count": 23,
   "id": "0350d78b",
   "metadata": {},
   "outputs": [],
   "source": [
    "def get_user_recommendations(movie_id):\n",
    "    return movieRecs_df.loc[movie_id].recommendations"
   ]
  },
  {
   "cell_type": "code",
   "execution_count": 24,
   "id": "8311a012",
   "metadata": {},
   "outputs": [
    {
     "data": {
      "text/plain": [
       "[Row(userId=214014, rating=5.033578872680664),\n",
       " Row(userId=265979, rating=4.982534885406494),\n",
       " Row(userId=96088, rating=4.941077709197998),\n",
       " Row(userId=49825, rating=4.921493053436279),\n",
       " Row(userId=236476, rating=4.9098052978515625),\n",
       " Row(userId=229727, rating=4.902568340301514),\n",
       " Row(userId=121527, rating=4.902458667755127),\n",
       " Row(userId=104645, rating=4.876795768737793),\n",
       " Row(userId=125590, rating=4.874320030212402),\n",
       " Row(userId=157646, rating=4.865233421325684)]"
      ]
     },
     "execution_count": 24,
     "metadata": {},
     "output_type": "execute_result"
    }
   ],
   "source": [
    "get_user_recommendations(1)"
   ]
  },
  {
   "cell_type": "code",
   "execution_count": 26,
   "id": "9d22dfc0",
   "metadata": {},
   "outputs": [
    {
     "data": {
      "text/plain": [
       "[Row(userId=268794, rating=5.477743625640869),\n",
       " Row(userId=26541, rating=5.4765543937683105),\n",
       " Row(userId=121527, rating=5.319829940795898),\n",
       " Row(userId=33746, rating=5.213842868804932),\n",
       " Row(userId=10538, rating=5.117254257202148),\n",
       " Row(userId=213750, rating=5.115749359130859),\n",
       " Row(userId=115750, rating=5.112091541290283),\n",
       " Row(userId=91791, rating=5.10179328918457),\n",
       " Row(userId=63517, rating=5.092469215393066),\n",
       " Row(userId=257250, rating=5.065879821777344)]"
      ]
     },
     "execution_count": 26,
     "metadata": {},
     "output_type": "execute_result"
    }
   ],
   "source": [
    "get_user_recommendations(420)"
   ]
  },
  {
   "cell_type": "code",
   "execution_count": null,
   "id": "6303aed4",
   "metadata": {},
   "outputs": [],
   "source": []
  }
 ],
 "metadata": {
  "kernelspec": {
   "display_name": "Python [conda env:bigdata]",
   "language": "python",
   "name": "conda-env-bigdata-py"
  },
  "language_info": {
   "codemirror_mode": {
    "name": "ipython",
    "version": 3
   },
   "file_extension": ".py",
   "mimetype": "text/x-python",
   "name": "python",
   "nbconvert_exporter": "python",
   "pygments_lexer": "ipython3",
   "version": "3.8.13"
  }
 },
 "nbformat": 4,
 "nbformat_minor": 5
}
